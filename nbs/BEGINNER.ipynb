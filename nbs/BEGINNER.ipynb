{
 "cells": [
  {
   "cell_type": "markdown",
   "metadata": {},
   "source": [
    "# Beginner"
   ]
  },
  {
   "cell_type": "markdown",
   "metadata": {},
   "source": [
    "## Deploy KUBERNETES DASHBOARD"
   ]
  },
  {
   "cell_type": "code",
   "execution_count": 3,
   "metadata": {},
   "outputs": [
    {
     "name": "stdout",
     "output_type": "stream",
     "text": [
      "secret/kubernetes-dashboard-certs created\n",
      "serviceaccount/kubernetes-dashboard created\n",
      "role.rbac.authorization.k8s.io/kubernetes-dashboard-minimal created\n",
      "rolebinding.rbac.authorization.k8s.io/kubernetes-dashboard-minimal created\n",
      "deployment.apps/kubernetes-dashboard created\n",
      "service/kubernetes-dashboard created\n"
     ]
    }
   ],
   "source": [
    "!kubectl apply -f https://raw.githubusercontent.com/kubernetes/dashboard/v1.10.1/src/deploy/recommended/kubernetes-dashboard.yaml"
   ]
  },
  {
   "cell_type": "code",
   "execution_count": 7,
   "metadata": {},
   "outputs": [
    {
     "name": "stdout",
     "output_type": "stream",
     "text": [
      "W0409 13:34:47.856898   83026 proxy.go:142] Request filter disabled, your proxy is vulnerable to XSRF attacks, please be cautious\n",
      "Starting to serve on [::]:8080\n",
      "^C\n"
     ]
    }
   ],
   "source": [
    "!kubectl proxy --port=8080 --address='0.0.0.0' --disable-filter=true"
   ]
  },
  {
   "cell_type": "code",
   "execution_count": null,
   "metadata": {},
   "outputs": [],
   "source": []
  }
 ],
 "metadata": {
  "kernelspec": {
   "display_name": "Python 3",
   "language": "python",
   "name": "python3"
  },
  "language_info": {
   "codemirror_mode": {
    "name": "ipython",
    "version": 3
   },
   "file_extension": ".py",
   "mimetype": "text/x-python",
   "name": "python",
   "nbconvert_exporter": "python",
   "pygments_lexer": "ipython3",
   "version": "3.7.4"
  }
 },
 "nbformat": 4,
 "nbformat_minor": 4
}
