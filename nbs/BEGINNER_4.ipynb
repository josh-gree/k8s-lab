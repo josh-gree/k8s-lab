{
 "cells": [
  {
   "cell_type": "markdown",
   "metadata": {},
   "source": [
    "# HELM"
   ]
  },
  {
   "cell_type": "markdown",
   "metadata": {},
   "source": [
    "Helm is a package manager and application management tool for Kubernetes that packages multiple Kubernetes resources into a single logical deployment unit called a Chart."
   ]
  },
  {
   "cell_type": "code",
   "execution_count": 6,
   "metadata": {},
   "outputs": [
    {
     "name": "stdout",
     "output_type": "stream",
     "text": [
      "v3.1.2+gd878d4d\n"
     ]
    }
   ],
   "source": [
    "!helm version --short"
   ]
  },
  {
   "cell_type": "code",
   "execution_count": 7,
   "metadata": {},
   "outputs": [
    {
     "name": "stdout",
     "output_type": "stream",
     "text": [
      "\"stable\" has been added to your repositories\n"
     ]
    }
   ],
   "source": [
    "!helm repo add stable https://kubernetes-charts.storage.googleapis.com/"
   ]
  },
  {
   "cell_type": "code",
   "execution_count": 10,
   "metadata": {},
   "outputs": [
    {
     "name": "stdout",
     "output_type": "stream",
     "text": [
      "NAME                                 \tCHART VERSION\tAPP VERSION            \tDESCRIPTION                                       \n",
      "stable/acs-engine-autoscaler         \t2.2.2        \t2.1.1                  \tDEPRECATED Scales worker nodes within agent pools \n",
      "stable/aerospike                     \t0.3.2        \tv4.5.0.5               \tA Helm chart for Aerospike in Kubernetes          \n",
      "stable/airflow                       \t6.5.0        \t1.10.4                 \tAirflow is a platform to programmatically autho...\n",
      "stable/ambassador                    \t5.3.1        \t0.86.1                 \tA Helm chart for Datawire Ambassador              \n",
      "stable/anchore-engine                \t1.5.1        \t0.7.0                  \tAnchore container analysis and policy evaluatio...\n",
      "stable/apm-server                    \t2.1.5        \t7.0.0                  \tThe server receives data from the Elastic APM a...\n",
      "stable/ark                           \t4.2.2        \t0.10.2                 \tDEPRECATED A Helm chart for ark                   \n",
      "stable/artifactory                   \t7.3.1        \t6.1.0                  \tDEPRECATED Universal Repository Manager support...\n",
      "stable/artifactory-ha                \t0.4.1        \t6.2.0                  \tDEPRECATED Universal Repository Manager support...\n",
      "stable/atlantis                      \t3.11.1       \tv0.11.1                \tA Helm chart for Atlantis https://www.runatlant...\n",
      "stable/auditbeat                     \t1.1.0        \t6.7.0                  \tA lightweight shipper to audit the activities o...\n",
      "stable/aws-cluster-autoscaler        \t0.3.3        \t                       \tScales worker nodes within autoscaling groups.    \n",
      "stable/aws-iam-authenticator         \t0.1.2        \t1.0                    \tA Helm chart for aws-iam-authenticator            \n",
      "stable/bitcoind                      \t1.0.0        \t0.17.1                 \tBitcoin is an innovative payment network and a ...\n",
      "stable/bookstack                     \t1.2.1        \t0.27.5                 \tBookStack is a simple, self-hosted, easy-to-use...\n",
      "stable/buildkite                     \t0.2.4        \t3                      \tDEPRECATED Agent for Buildkite                    \n",
      "stable/burrow                        \t1.5.2        \t0.29.0                 \tBurrow is a permissionable smart contract machine \n",
      "stable/centrifugo                    \t3.1.1        \t2.1.0                  \tCentrifugo is a real-time messaging server.       \n",
      "stable/cerebro                       \t1.7.0        \t0.8.5                  \tA Helm chart for Cerebro - a web admin tool tha...\n",
      "stable/cert-manager                  \tv0.6.7       \tv0.6.2                 \tA Helm chart for cert-manager                     \n",
      "stable/chaoskube                     \t3.1.4        \t0.14.0                 \tChaoskube periodically kills random pods in you...\n",
      "stable/chartmuseum                   \t2.10.0       \t0.12.0                 \tHost your own Helm Chart Repository               \n",
      "stable/chronograf                    \t1.1.1        \t1.7.12                 \tDEPRECATED Open-source web application written ...\n",
      "stable/clamav                        \t1.0.5        \t1.6                    \tAn Open-Source antivirus engine for detecting t...\n",
      "stable/cloudserver                   \t1.0.4        \t8.1.5                  \tAn open-source Node.js implementation of the Am...\n",
      "stable/cluster-autoscaler            \t7.2.2        \t1.17.1                 \tScales worker nodes within autoscaling groups.    \n",
      "stable/cluster-overprovisioner       \t0.3.0        \t1.0                    \tInstalls the a deployment that overprovisions t...\n",
      "stable/cockroachdb                   \t3.0.7        \t19.2.5                 \tCockroachDB is a scalable, survivable, strongly...\n",
      "stable/collabora-code                \t1.0.6        \t4.0.3.1                \tA Helm chart for Collabora Office - CODE-Edition  \n",
      "stable/concourse                     \t8.3.7        \t5.6.0                  \tDEPRECATED Concourse is a simple and scalable C...\n",
      "stable/consul                        \t3.9.5        \t1.5.3                  \tHighly available and distributed service discov...\n",
      "stable/contour                       \t0.2.0        \tv0.15.0                \tContour Ingress controller for Kubernetes         \n",
      "stable/coredns                       \t1.10.1       \t1.6.9                  \tCoreDNS is a DNS server that chains plugins and...\n",
      "stable/cosbench                      \t1.0.1        \t0.0.6                  \tA benchmark tool for cloud object storage services\n",
      "stable/coscale                       \t1.0.0        \t3.16.0                 \tCoScale Agent                                     \n",
      "stable/couchbase-operator            \t1.0.2        \t1.2.2                  \tA Helm chart to deploy the Couchbase Autonomous...\n",
      "stable/couchdb                       \t2.3.0        \t2.3.1                  \tDEPRECATED A database featuring seamless multi-...\n",
      "stable/dask                          \t3.1.1        \t1.1.5                  \tDEPRECATED Distributed computation in Python wi...\n",
      "stable/dask-distributed              \t2.0.2        \t                       \tDEPRECATED: Distributed computation in Python     \n",
      "stable/datadog                       \t2.2.0        \t7                      \tDatadog Agent                                     \n",
      "stable/dex                           \t2.10.0       \t2.23.0                 \tOpenID Connect Identity (OIDC) and OAuth 2.0 Pr...\n",
      "stable/distributed-jmeter            \t1.0.1        \t3.3                    \tA Distributed JMeter Helm chart                   \n",
      "stable/distributed-tensorflow        \t0.1.3        \t1.6.0                  \tA Helm chart for running distributed TensorFlow...\n",
      "stable/distribution                  \t0.4.2        \t1.1.0                  \tDEPRECATED A Helm chart for JFrog Distribution    \n",
      "stable/dmarc2logstash                \t1.2.0        \t1.0.3                  \tProvides a POP3-polled DMARC XML report injecto...\n",
      "stable/docker-registry               \t1.9.2        \t2.7.1                  \tA Helm chart for Docker Registry                  \n",
      "stable/dokuwiki                      \t6.0.11       \t0.20180422.201901061035\tDEPRECATED DokuWiki is a standards-compliant, s...\n",
      "stable/drone                         \t2.7.2        \t1.6.5                  \tDrone is a Continuous Delivery system built on ...\n",
      "stable/drupal                        \t6.2.12       \t8.8.3                  \tDEPRECATED One of the most versatile open sourc...\n",
      "stable/efs-provisioner               \t0.11.0       \tv2.4.0                 \tA Helm chart for the AWS EFS external storage p...\n",
      "stable/elastabot                     \t1.2.0        \t1.1.0                  \tA Helm chart for Elastabot - a Slack bot compan...\n",
      "stable/elastalert                    \t1.2.4        \t0.2.1                  \tElastAlert is a simple framework for alerting o...\n",
      "stable/elastic-stack                 \t1.9.0        \t6                      \tA Helm chart for ELK                              \n",
      "stable/elasticsearch                 \t1.32.4       \t6.8.6                  \tFlexible and powerful open source, distributed ...\n",
      "stable/elasticsearch-curator         \t2.1.5        \t5.7.6                  \tA Helm chart for Elasticsearch Curator            \n",
      "stable/elasticsearch-exporter        \t3.0.0        \t1.1.0                  \tElasticsearch stats exporter for Prometheus       \n",
      "stable/envoy                         \t1.9.0        \t1.11.2                 \tEnvoy is an open source edge and service proxy,...\n",
      "stable/etcd-operator                 \t0.10.3       \t0.9.4                  \tCoreOS etcd-operator Helm chart for Kubernetes    \n",
      "stable/ethereum                      \t1.0.0        \tv1.7.3                 \tprivate Ethereum network Helm chart for Kubernetes\n",
      "stable/eventrouter                   \t0.3.0        \t0.3                    \tA Helm chart for eventruter (https://github.com...\n",
      "stable/express-gateway               \t1.6.3        \t1.16.9                 \tExpress Gateway is an API Gateway that sits at ...\n",
      "stable/external-dns                  \t2.20.4       \t0.7.0                  \tDEPRECATED ExternalDNS is a Kubernetes addon th...\n",
      "stable/factorio                      \t1.0.0        \t0.15.39                \tFactorio dedicated server.                        \n",
      "stable/falco                         \t1.1.6        \t0.21.0                 \tFalco                                             \n",
      "stable/filebeat                      \t4.0.0        \t7.4.0                  \tA Helm chart to collect Kubernetes logs with fi...\n",
      "stable/fluent-bit                    \t2.8.12       \t1.3.7                  \tFast and Lightweight Log/Data Forwarder for Lin...\n",
      "stable/fluentd                       \t2.4.0        \tv2.4.0                 \tA Fluentd Elasticsearch Helm chart for Kubernetes.\n",
      "stable/fluentd-elasticsearch         \t2.0.7        \t2.3.2                  \tDEPRECATED! - A Fluentd Helm chart for Kubernet...\n",
      "stable/g2                            \t0.3.3        \t0.5.0                  \tDEPRECATED G2 by AppsCode - Gearman in Golang     \n",
      "stable/gangway                       \t0.4.2        \t3.3.0                  \tAn application that can be used to easily enabl...\n",
      "stable/gce-ingress                   \t1.2.0        \t1.4.0                  \tA GCE Ingress Controller                          \n",
      "stable/gcloud-endpoints              \t0.1.2        \t1                      \tDEPRECATED Develop, deploy, protect and monitor...\n",
      "stable/gcloud-sqlproxy               \t0.6.1        \t1.11                   \tDEPRECATED Google Cloud SQL Proxy                 \n",
      "stable/gcp-night-king                \t1.0.2        \t1                      \tA Helm chart for GCP Night King                   \n",
      "stable/ghost                         \t9.1.13       \t3.9.0                  \tDEPRECATED A simple, powerful publishing platfo...\n",
      "stable/gitlab-ce                     \t0.2.2        \t9.4.1                  \tGitLab Community Edition                          \n",
      "stable/gitlab-ee                     \t0.2.2        \t9.4.1                  \tGitLab Enterprise Edition                         \n",
      "stable/gocd                          \t1.25.1       \t20.2.0                 \tGoCD is an open-source continuous delivery serv...\n",
      "stable/goldpinger                    \t2.0.2        \t2.0.0                  \tGoldpinger makes calls between its instances fo...\n",
      "stable/grafana                       \t5.0.11       \t6.7.1                  \tThe leading tool for querying and visualizing t...\n",
      "stable/graphite                      \t0.2.2        \t1.1.5-3                \tDEPRECATED! - Graphite metrics server             \n",
      "stable/graylog                       \t1.6.2        \t3.1                    \tGraylog is the centralized log management solut...\n",
      "stable/hackmd                        \t1.2.4        \t1.3.0-alpine           \tRealtime collaborative markdown notes on all pl...\n",
      "stable/hadoop                        \t1.1.2        \t2.9.0                  \tThe Apache Hadoop software library is a framewo...\n",
      "stable/hazelcast                     \t3.1.1        \t4.0                    \tHazelcast IMDG is the most widely used in-memor...\n",
      "stable/hazelcast-jet                 \t1.5.0        \t4.0                    \tHazelcast Jet is an application embeddable, dis...\n",
      "stable/heapster                      \t1.0.2        \t1.5.4                  \tHeapster enables Container Cluster Monitoring a...\n",
      "stable/heartbeat                     \t1.2.0        \t6.7.0                  \tA Helm chart to periodically check the status o...\n",
      "stable/helm-exporter                 \t0.3.3        \t0.4.0                  \tDEPRECATED Exports helm release stats to promet...\n",
      "stable/hl-composer                   \t1.0.12       \t0.20.0                 \tHyperledger Composer REST Server chart            \n",
      "stable/hlf-ca                        \t1.2.0        \t1.4.3                  \tHyperledger Fabric Certificate Authority chart ...\n",
      "stable/hlf-couchdb                   \t1.0.7        \t0.4.10                 \tCouchDB instance for Hyperledger Fabric (these ...\n",
      "stable/hlf-ord                       \t1.3.0        \t1.4.3                  \tHyperledger Fabric Orderer chart (these charts ...\n",
      "stable/hlf-peer                      \t1.3.0        \t1.4.3                  \tHyperledger Fabric Peer chart (these charts are...\n",
      "stable/hoard                         \t1.0.0        \t6.0.0                  \tHoard is a stateless, deterministically encrypt...\n",
      "stable/home-assistant                \t0.12.6       \t0.107.7                \tHome Assistant                                    \n",
      "stable/horovod                       \t1.0.0        \t0.12.1                 \tA Helm chart for deploying Horovod                \n",
      "stable/hubot                         \t1.0.1        \t3.3.2                  \tHubot chatbot for Slack                           \n",
      "stable/ignite                        \t1.0.1        \t2.7.6                  \tApache Ignite is an open-source distributed dat...\n",
      "stable/inbucket                      \t3.1.0        \t2.0.0                  \tInbucket is an email testing application          \n",
      "stable/influxdb                      \t4.3.2        \t1.7.9                  \tDEPRECATED Scalable datastore for metrics, even...\n",
      "stable/ingressmonitorcontroller      \t1.0.48       \t1.0.47                 \tIngressMonitorController chart that runs on kub...\n",
      "stable/instana-agent                 \t1.0.26       \t1.1                    \tInstana Agent for Kubernetes                      \n",
      "stable/ipfs                          \t0.4.1        \tv0.4.22                \tA Helm chart for the Interplanetary File System   \n",
      "stable/jaeger-operator               \t2.12.2       \t1.15.1                 \tjaeger-operator Helm chart for Kubernetes         \n",
      "stable/janusgraph                    \t0.2.1        \t1.0                    \tOpen source, scalable graph database.             \n",
      "stable/jasperreports                 \t7.0.11       \t7.2.0                  \tDEPRECATED The JasperReports server can be used...\n",
      "stable/jenkins                       \t1.11.3       \tlts                    \tOpen source continuous integration server. It s...\n",
      "stable/joomla                        \t7.1.11       \t3.9.15                 \tDEPRECATED PHP content management system (CMS) ...\n",
      "stable/k8s-spot-rescheduler          \t0.4.3        \tv0.2.0                 \tA k8s-spot-rescheduler Helm chart for Kubernetes  \n",
      "stable/k8s-spot-termination-handler  \t1.4.8        \t1.13.7-1               \tThe K8s Spot Termination handler handles draini...\n",
      "stable/kafka-manager                 \t2.3.1        \t1.3.3.22               \tA tool for managing Apache Kafka.                 \n",
      "stable/kanister-operator             \t0.3.0        \t0.10.0                 \tKanister-operator Helm chart for Kubernetes       \n",
      "stable/kapacitor                     \t1.2.2        \t1.5.2                  \tDEPRECATED InfluxDB's native data processing en...\n",
      "stable/karma                         \t1.5.0        \tv0.60                  \tA Helm chart for Karma - an UI for Prometheus A...\n",
      "stable/katafygio                     \t1.0.0        \t0.8.1                  \tContinuously backup Kubernetes objets as YAML f...\n",
      "stable/keel                          \t0.6.1        \t0.9.5                  \tDEPRECATED Open source, tool for automating Kub...\n",
      "stable/keycloak                      \t4.10.1       \t5.0.0                  \tDEPRECATED - Open Source Identity and Access Ma...\n",
      "stable/kiam                          \t2.5.3        \t3.3                    \tDEPRECATED Integrate AWS IAM with Kubernetes      \n",
      "stable/kibana                        \t3.2.6        \t6.7.0                  \tKibana is an open source data visualization plu...\n",
      "stable/kong                          \t0.36.6       \t1.4                    \tDEPRECATED The Cloud-Native Ingress and API-man...\n",
      "stable/kube-hunter                   \t1.0.3        \t312                    \tA Helm chart for Kube-hunter                      \n",
      "stable/kube-lego                     \t0.4.2        \tv0.1.6                 \tDEPRECATED Automatically requests certificates ...\n",
      "stable/kube-ops-view                 \t1.1.4        \t19.9.0                 \tKubernetes Operational View - read-only system ...\n",
      "stable/kube-slack                    \t1.3.0        \tv4.2.0                 \tChart for kube-slack, a monitoring service for ...\n",
      "stable/kube-state-metrics            \t2.8.2        \t1.9.5                  \tInstall kube-state-metrics to generate and expo...\n",
      "stable/kube2iam                      \t2.1.0        \t0.10.7                 \tProvide IAM credentials to pods based on annota...\n",
      "stable/kubed                         \t0.3.3        \t0.4.0                  \tDEPRECATED Kubed by AppsCode - Kubernetes daemon  \n",
      "stable/kubedb                        \t0.1.3        \t0.8.0-beta.2           \tDEPRECATED KubeDB by AppsCode - Making running ...\n",
      "stable/kuberhealthy                  \t1.2.6        \tv1.0.2                 \tThe official Helm chart for Kuberhealthy.         \n",
      "stable/kubernetes-dashboard          \t1.10.1       \t1.10.1                 \tGeneral-purpose web UI for Kubernetes clusters    \n",
      "stable/kuberos                       \t0.2.1        \t2018-07-03             \tAn OIDC authentication helper for Kubernetes      \n",
      "stable/kubewatch                     \t1.0.9        \t0.0.4                  \tDEPRECATED Kubewatch notifies your slack rooms ...\n",
      "stable/kured                         \t1.5.0        \t1.3.0                  \tA Helm chart for kured                            \n",
      "stable/lamp                          \t1.1.3        \t7                      \tModular and transparent LAMP stack chart suppor...\n",
      "stable/linkerd                       \t0.4.1        \t1.1.2                  \tService mesh for cloud native apps                \n",
      "stable/locust                        \t1.1.3        \t0.9.0                  \tA modern load testing framework                   \n",
      "stable/logdna-agent                  \t1.3.0        \t1.5.6                  \tRun this, get logs. All cluster containers. Log...\n",
      "stable/logstash                      \t2.4.0        \t7.1.1                  \tLogstash is an open source, server-side data pr...\n",
      "stable/luigi                         \t2.7.5        \t2.7.2                  \tLuigi is a Python module that helps you build c...\n",
      "stable/magento                       \t6.0.0        \t2.3.1                  \tDEPRECATED A feature-rich flexible e-commerce s...\n",
      "stable/magic-ip-address              \t0.1.0        \t0.9.0                  \tA Helm chart to assign static IP addresses for ...\n",
      "stable/magic-namespace               \t0.6.0        \t2.8.1                  \tElegantly enables a Tiller per namespace in RBA...\n",
      "stable/mailhog                       \t2.3.1        \t1.0.0                  \tDEPRECATED - An e-mail testing tool for developers\n",
      "stable/mariadb                       \t7.3.14       \t10.3.22                \tDEPRECATED Fast, reliable, scalable, and easy t...\n",
      "stable/mattermost-team-edition       \t3.1.2        \t5.9.0                  \tMattermost Team Edition server.                   \n",
      "stable/mcrouter                      \t1.0.2        \t0.36.0                 \tMcrouter is a memcached protocol router for sca...\n",
      "stable/mediawiki                     \t9.1.9        \t1.34.0                 \tDEPRECATED Extremely powerful, scalable softwar...\n",
      "stable/memcached                     \t3.2.3        \t1.5.20                 \tFree & open source, high-performance, distribut...\n",
      "stable/mercure                       \t3.0.0        \t0.8.0                  \tThe Mercure hub allows to push data updates usi...\n",
      "stable/metabase                      \t0.10.6       \tv0.34.3                \tThe easy, open source way for everyone in your ...\n",
      "stable/metallb                       \t0.12.0       \t0.8.1                  \tMetalLB is a load-balancer implementation for b...\n",
      "stable/metricbeat                    \t1.7.1        \t6.7.0                  \tA Helm chart to collect Kubernetes logs with me...\n",
      "stable/metrics-server                \t2.11.0       \t0.3.6                  \tMetrics Server is a cluster-wide aggregator of ...\n",
      "stable/minecraft                     \t1.2.2        \t1.14.4                 \tMinecraft server                                  \n",
      "stable/minio                         \t5.0.20       \tmaster                 \tMinIO is a high performance data infrastructure...\n",
      "stable/mission-control               \t0.4.3        \t3.1.2                  \tDEPRECATED A Helm chart for JFrog Mission Control \n",
      "stable/mongodb                       \t7.8.10       \t4.2.4                  \tDEPRECATED NoSQL document-oriented database tha...\n",
      "stable/mongodb-replicaset            \t3.15.0       \t3.6                    \tNoSQL document-oriented database that stores JS...\n",
      "stable/moodle                        \t7.2.8        \t3.8.2                  \tDEPRECATED Moodle is a learning platform design...\n",
      "stable/msoms                         \t0.2.0        \t1.0.0-30               \tA chart for deploying omsagent as a daemonset K...\n",
      "stable/mssql-linux                   \t0.11.1       \t14.0.3023.8            \tSQL Server 2017 Linux Helm Chart                  \n",
      "stable/mysql                         \t1.6.2        \t5.7.28                 \tFast, reliable, scalable, and easy to use open-...\n",
      "stable/mysqldump                     \t2.6.0        \t2.4.1                  \tA Helm chart to help backup MySQL databases usi...\n",
      "stable/namerd                        \t0.2.0        \t                       \tService that manages routing for multiple linke...\n",
      "stable/nats                          \t4.3.7        \t2.1.4                  \tDEPRECATED An open-source, cloud-native messagi...\n",
      "stable/neo4j                         \t2.0.0        \t3.4.5                  \tNeo4j is the world's leading graph database       \n",
      "stable/newrelic-infrastructure       \t0.13.29      \t1.18.0                 \tA Helm chart to deploy the New Relic Infrastruc...\n",
      "stable/nextcloud                     \t1.9.2        \t17.0.0                 \tA file sharing server that puts the control and...\n",
      "stable/nfs-client-provisioner        \t1.2.8        \t3.1.0                  \tnfs-client is an automatic provisioner that use...\n",
      "stable/nfs-server-provisioner        \t1.0.0        \t2.3.0                  \tnfs-server-provisioner is an out-of-tree dynami...\n",
      "stable/nginx-ingress                 \t1.36.0       \t0.30.0                 \tAn nginx Ingress controller that uses ConfigMap...\n",
      "stable/nginx-ldapauth-proxy          \t0.1.3        \t1.13.5                 \tnginx proxy with ldapauth                         \n",
      "stable/nginx-lego                    \t0.3.1        \t                       \tChart for nginx-ingress-controller and kube-lego  \n",
      "stable/node-problem-detector         \t1.7.2        \tv0.8.1                 \tInstalls the node-problem-detector daemonset fo...\n",
      "stable/node-red                      \t1.4.2        \t1.0.4                  \tNode-RED is low-code programming for event-driv...\n",
      "stable/oauth2-proxy                  \t2.4.1        \t5.1.0                  \tA reverse proxy that provides authentication wi...\n",
      "stable/odoo                          \t13.0.5       \t12.0.20200215          \tDEPRECATED A suite of web based open source bus...\n",
      "stable/opa                           \t1.13.4       \t0.15.1                 \tOpen source, general-purpose policy engine. Enf...\n",
      "stable/opencart                      \t7.0.8        \t3.0.3-2                \tDEPRECATED A free and open source e-commerce pl...\n",
      "stable/openebs                       \t1.8.0        \t1.8.0                  \tContainerized Storage for Containers              \n",
      "stable/openiban                      \t1.0.0        \t1.0.1                  \tOpenIBAN is a self-hosted, free and open-source...\n",
      "stable/openldap                      \t1.2.3        \t2.4.48                 \tCommunity developed LDAP software                 \n",
      "stable/openvpn                       \t4.2.2        \t1.1.0                  \tA Helm chart to install an openvpn server insid...\n",
      "stable/orangehrm                     \t7.0.10       \t4.3.4-0                \tDEPRECATED OrangeHRM is a free HR management sy...\n",
      "stable/osclass                       \t7.0.10       \t3.7.4                  \tDEPRECATED Osclass is a php script that allows ...\n",
      "stable/owncloud                      \t8.1.8        \t10.4.0                 \tDEPRECATED A file sharing server that puts the ...\n",
      "stable/pachyderm                     \t0.2.1        \t1.8.6                  \tPachyderm is a large-scale container-based work...\n",
      "stable/parse                         \t10.3.10      \t3.10.0                 \tDEPRECATED Parse is a platform that enables use...\n",
      "stable/percona                       \t1.2.1        \t5.7.26                 \tfree, fully compatible, enhanced, open source d...\n",
      "stable/percona-xtradb-cluster        \t1.0.3        \t5.7.19                 \tfree, fully compatible, enhanced, open source d...\n",
      "stable/pgadmin                       \t1.2.3        \t4.18.0                 \tDEPRECATED - moved to new repo, see source for ...\n",
      "stable/phabricator                   \t9.0.13       \t2020.7.0               \tDEPRECATED Collection of open source web applic...\n",
      "stable/phpbb                         \t7.0.10       \t3.3.0                  \tDEPRECATED Community forum that supports the no...\n",
      "stable/phpmyadmin                    \t4.3.5        \t5.0.1                  \tDEPRECATED phpMyAdmin is an mysql administratio...\n",
      "stable/pomerium                      \t4.2.3        \t0.5.2                  \tDEPRECATED - see https://helm.pomerium.io         \n",
      "stable/postgresql                    \t8.6.4        \t11.7.0                 \tDEPRECATED Chart for PostgreSQL, an object-rela...\n",
      "stable/prestashop                    \t9.1.11       \t1.7.6-4                \tDEPRECATED A popular open source ecommerce solu...\n",
      "stable/presto                        \t0.1.1        \t0.196                  \tDistributed SQL query engine for running intera...\n",
      "stable/prisma                        \t1.2.1        \t1.29.1                 \tPrisma turns your database into a realtime Grap...\n",
      "stable/prometheus                    \t11.0.5       \t2.16.0                 \tPrometheus is a monitoring system and time seri...\n",
      "stable/prometheus-adapter            \t2.2.0        \tv0.6.0                 \tA Helm chart for k8s prometheus adapter           \n",
      "stable/prometheus-blackbox-exporter  \t3.4.0        \t0.15.1                 \tPrometheus Blackbox Exporter                      \n",
      "stable/prometheus-cloudwatch-exporter\t0.7.0        \t0.8.0                  \tA Helm chart for prometheus cloudwatch-exporter   \n",
      "stable/prometheus-consul-exporter    \t0.1.4        \t0.4.0                  \tA Helm chart for the Prometheus Consul Exporter   \n",
      "stable/prometheus-couchdb-exporter   \t0.1.1        \t1.0                    \tA Helm chart to export the metrics from couchdb...\n",
      "stable/prometheus-mongodb-exporter   \t2.4.0        \tv0.10.0                \tA Prometheus exporter for MongoDB metrics         \n",
      "stable/prometheus-mysql-exporter     \t0.5.2        \tv0.11.0                \tA Helm chart for prometheus mysql exporter with...\n",
      "stable/prometheus-nats-exporter      \t2.4.0        \t0.6.0                  \tA Helm chart for prometheus-nats-exporter         \n",
      "stable/prometheus-node-exporter      \t1.9.1        \t0.18.1                 \tA Helm chart for prometheus node-exporter         \n",
      "stable/prometheus-operator           \t8.12.12      \t0.37.0                 \tProvides easy monitoring definitions for Kubern...\n",
      "stable/prometheus-postgres-exporter  \t1.2.0        \t0.8.0                  \tA Helm chart for prometheus postgres-exporter     \n",
      "stable/prometheus-pushgateway        \t1.4.0        \t1.2.0                  \tA Helm chart for prometheus pushgateway           \n",
      "stable/prometheus-rabbitmq-exporter  \t0.5.5        \tv0.29.0                \tRabbitmq metrics exporter for prometheus          \n",
      "stable/prometheus-redis-exporter     \t3.3.3        \t1.3.4                  \tPrometheus exporter for Redis metrics             \n",
      "stable/prometheus-snmp-exporter      \t0.0.5        \t0.14.0                 \tPrometheus SNMP Exporter                          \n",
      "stable/prometheus-to-sd              \t0.3.0        \t0.5.2                  \tScrape metrics stored in prometheus format and ...\n",
      "stable/quassel                       \t0.2.9        \t0.12.4                 \tQuassel IRC is a modern, cross-platform, distri...\n",
      "stable/rabbitmq                      \t6.18.2       \t3.8.2                  \tDEPRECATED Open source message broker software ...\n",
      "stable/rabbitmq-ha                   \t1.44.1       \t3.8.0                  \tHighly available RabbitMQ cluster, the open sou...\n",
      "stable/redis                         \t10.5.7       \t5.0.7                  \tDEPRECATED Open source, advanced key-value stor...\n",
      "stable/redis-ha                      \t4.4.4        \t5.0.6                  \tHighly available Kubernetes implementation of R...\n",
      "stable/redmine                       \t14.1.12      \t4.1.0                  \tDEPRECATED A flexible project management web ap...\n",
      "stable/reloader                      \t1.2.0        \tv0.0.41                \tReloader chart that runs on kubernetes            \n",
      "stable/rethinkdb                     \t1.1.0        \t0.1.0                  \tThe open-source database for the realtime web     \n",
      "stable/risk-advisor                  \t2.0.4        \t1.0.0                  \tRisk Advisor add-on module for Kubernetes         \n",
      "stable/rocketchat                    \t2.0.2        \t2.4.9                  \tPrepare to take off with the ultimate chat plat...\n",
      "stable/rookout                       \t0.1.0        \t1.0                    \tA Helm chart for Rookout agent on Kubernetes      \n",
      "stable/sapho                         \t0.2.2        \t                       \tA micro application development and integration...\n",
      "stable/satisfy                       \t1.0.0        \t3.0.4                  \tComposer repo hosting with Satisfy                \n",
      "stable/schema-registry-ui            \t0.4.1        \tv0.9.5                 \tThis is a web tool for the confluentinc/schema-...\n",
      "stable/sealed-secrets                \t1.8.0        \t0.10.0                 \tA Helm chart for Sealed Secrets                   \n",
      "stable/searchlight                   \t0.3.3        \t5.0.0                  \tDEPRECATED Searchlight by AppsCode - Alerts for...\n",
      "stable/selenium                      \t1.0.11       \t3.141.59               \tChart for selenium grid                           \n",
      "stable/sematext-agent                \t1.0.24       \t1.0                    \tHelm chart for deploying Sematext Agent to Kube...\n",
      "stable/sematext-docker-agent         \t1.0.1        \t1.31.53                \tDEPRECATED Sematext Docker Agent                  \n",
      "stable/sensu                         \t0.2.3        \t0.28                   \tSensu monitoring framework backed by the Redis ...\n",
      "stable/sentry                        \t4.1.0        \t9.1.2                  \tSentry is a cross-platform crash reporting and ...\n",
      "stable/seq                           \t1.0.5        \t5                      \tSeq is the easiest way for development teams to...\n",
      "stable/signalfx-agent                \t0.3.1        \t3.6.1                  \tDEPRECATED The SignalFx Kubernetes agent          \n",
      "stable/signalsciences                \t2.0.0        \t4.5.0                  \tSignalSciences is a web application firewall. T...\n",
      "stable/socat-tunneller               \t0.1.0        \t1.0                    \tA Helm chart for socat-tunneller                  \n",
      "stable/sonarqube                     \t4.0.1        \t7.9.2                  \tDEPRECATED SonarQube is an open sourced code qu...\n",
      "stable/sonatype-nexus                \t1.23.1       \t3.20.1-01              \tDEPRECATED - Sonatype Nexus is an open source r...\n",
      "stable/spark                         \t1.0.3        \t1.5.1                  \tFast and general-purpose cluster computing system.\n",
      "stable/spark-history-server          \t1.1.2        \t2.4.0                  \tA Helm chart for Spark History Server             \n",
      "stable/spartakus                     \t1.1.6        \t1.0.0                  \tCollect information about Kubernetes clusters t...\n",
      "stable/spinnaker                     \t1.23.3       \t1.16.2                 \tOpen source, multi-cloud continuous delivery pl...\n",
      "stable/spotify-docker-gc             \t1.0.0        \tlatest                 \tA simple Docker container and image garbage col...\n",
      "stable/spring-cloud-data-flow        \t2.6.0        \t2.4.0.RELEASE          \tToolkit for building data processing pipelines.   \n",
      "stable/stackdriver-exporter          \t1.2.2        \t0.6.0                  \tStackdriver exporter for Prometheus               \n",
      "stable/stash                         \t0.5.3        \t0.7.0-rc.1             \tDEPRECATED Stash by AppsCode - Backup your Kube...\n",
      "stable/stellar-core                  \t1.0.0        \t10.0.0                 \tBackbone node of the Stellar cryptocurrency net...\n",
      "stable/stolon                        \t1.5.8        \t0.13.0                 \tStolon - PostgreSQL cloud native High Availabil...\n",
      "stable/sugarcrm                      \t1.0.7        \t6.5.26                 \tDEPRECATED SugarCRM enables businesses to creat...\n",
      "stable/suitecrm                      \t8.0.11       \t7.11.12                \tDEPRECATED SuiteCRM is a completely open source...\n",
      "stable/sumokube                      \t1.0.0        \tlatest                 \tSumologic Log Collector                           \n",
      "stable/sumologic-fluentd             \t2.1.0        \t2.4.2                  \tSumologic Log Collector                           \n",
      "stable/superset                      \t1.1.10       \t0.35.2                 \tApache Superset (incubating) is a modern, enter...\n",
      "stable/swift                         \t0.6.3        \t0.7.3                  \tDEPRECATED swift by AppsCode - Ajax friendly He...\n",
      "stable/sysdig                        \t1.7.9        \t9.8.0                  \tSysdig Monitor and Secure agent                   \n",
      "stable/telegraf                      \t1.6.1        \t1.12                   \tDEPRECATED Telegraf is an agent written in Go f...\n",
      "stable/tensorflow-notebook           \t0.1.3        \t1.6.0                  \tA Helm chart for tensorflow notebook and tensor...\n",
      "stable/tensorflow-serving            \t1.0.1        \t1.14.0                 \tTensorFlow Serving is an open-source software l...\n",
      "stable/terracotta                    \t1.1.0        \t5.6.0                  \tTerracotta Ehcache is an improved version of Ja...\n",
      "stable/testlink                      \t7.1.7        \t1.9.20                 \tDEPRECATED Web-based test management system tha...\n",
      "stable/tomcat                        \t0.4.1        \t7.0                    \tDeploy a basic tomcat application server with s...\n",
      "stable/traefik                       \t1.86.2       \t1.7.20                 \tA Traefik based Kubernetes ingress controller w...\n",
      "stable/uchiwa                        \t1.0.0        \t0.22                   \tDashboard for the Sensu monitoring framework      \n",
      "stable/unbound                       \t1.1.2        \t1.6.7                  \tUnbound is a fast caching DNS resolver            \n",
      "stable/unifi                         \t0.6.5        \t5.12.35                \tUbiquiti Network's Unifi Controller               \n",
      "stable/vault-operator                \t0.1.1        \t0.1.9                  \tCoreOS vault-operator Helm chart for Kubernetes   \n",
      "stable/velero                        \t2.7.4        \t1.2.0                  \tA Helm chart for velero                           \n",
      "stable/verdaccio                     \t0.7.5        \t3.11.6                 \tA lightweight private npm proxy registry (sinop...\n",
      "stable/voyager                       \t3.2.4        \t6.0.0                  \tDEPRECATED Voyager by AppsCode - Secure Ingress...\n",
      "stable/vsphere-cpi                   \t0.1.3        \t1.1.0                  \tA Helm chart for vSphere Cloud Provider Interfa...\n",
      "stable/wavefront                     \t1.1.2        \t1.0.3                  \tDEPRECATED Wavefront Kubernetes collector         \n",
      "stable/weave-cloud                   \t0.3.7        \t1.4.0                  \tWeave Cloud is a add-on to Kubernetes which pro...\n",
      "stable/weave-scope                   \t1.1.10       \t1.12.0                 \tA Helm chart for the Weave Scope cluster visual...\n",
      "stable/wordpress                     \t9.0.3        \t5.3.2                  \tDEPRECATED Web publishing platform for building...\n",
      "stable/xray                          \t0.4.2        \t2.3.0                  \tDEPRECATED Universal component scan for securit...\n",
      "stable/zeppelin                      \t1.1.0        \t0.7.2                  \tWeb-based notebook that enables data-driven, in...\n",
      "stable/zetcd                         \t0.1.9        \t0.0.3                  \tCoreOS zetcd Helm chart for Kubernetes            \n"
     ]
    }
   ],
   "source": [
    "!helm search repo stable "
   ]
  },
  {
   "cell_type": "markdown",
   "metadata": {},
   "source": [
    "## Deploy nginx With Helm"
   ]
  },
  {
   "cell_type": "code",
   "execution_count": 11,
   "metadata": {},
   "outputs": [
    {
     "name": "stdout",
     "output_type": "stream",
     "text": [
      "Hang tight while we grab the latest from your chart repositories...\n",
      "...Successfully got an update from the \"stable\" chart repository\n",
      "Update Complete. ⎈ Happy Helming!⎈ \n"
     ]
    }
   ],
   "source": [
    "!helm repo update"
   ]
  },
  {
   "cell_type": "code",
   "execution_count": 12,
   "metadata": {},
   "outputs": [
    {
     "name": "stdout",
     "output_type": "stream",
     "text": [
      "NAME                       \tCHART VERSION\tAPP VERSION\tDESCRIPTION                                       \n",
      "stable/nginx-ingress       \t1.36.0       \t0.30.0     \tAn nginx Ingress controller that uses ConfigMap...\n",
      "stable/nginx-ldapauth-proxy\t0.1.3        \t1.13.5     \tnginx proxy with ldapauth                         \n",
      "stable/nginx-lego          \t0.3.1        \t           \tChart for nginx-ingress-controller and kube-lego  \n",
      "stable/gcloud-endpoints    \t0.1.2        \t1          \tDEPRECATED Develop, deploy, protect and monitor...\n"
     ]
    }
   ],
   "source": [
    "!helm search repo nginx"
   ]
  },
  {
   "cell_type": "code",
   "execution_count": 13,
   "metadata": {},
   "outputs": [
    {
     "name": "stdout",
     "output_type": "stream",
     "text": [
      "\"bitnami\" has been added to your repositories\n"
     ]
    }
   ],
   "source": [
    "!helm repo add bitnami https://charts.bitnami.com/bitnami"
   ]
  },
  {
   "cell_type": "code",
   "execution_count": 15,
   "metadata": {},
   "outputs": [
    {
     "name": "stdout",
     "output_type": "stream",
     "text": [
      "NAME                            \tCHART VERSION\tAPP VERSION            \tDESCRIPTION                                       \n",
      "bitnami/bitnami-common          \t0.0.8        \t0.0.8                  \tChart with custom templates used in Bitnami cha...\n",
      "bitnami/airflow                 \t5.0.5        \t1.10.9                 \tApache Airflow is a platform to programmaticall...\n",
      "bitnami/apache                  \t7.3.12       \t2.4.43                 \tChart for Apache HTTP Server                      \n",
      "bitnami/cassandra               \t5.2.0        \t3.11.6                 \tApache Cassandra is a free and open-source dist...\n",
      "bitnami/common                  \t0.1.1        \t0.1.0                  \tA Library Helm Chart for grouping common logic ...\n",
      "bitnami/consul                  \t7.0.8        \t1.7.2                  \tHighly available and distributed service discov...\n",
      "bitnami/dokuwiki                \t6.0.13       \t0.20180422.201901061035\tDokuWiki is a standards-compliant, simple to us...\n",
      "bitnami/drupal                  \t6.2.16       \t8.8.5                  \tOne of the most versatile open source content m...\n",
      "bitnami/elasticsearch           \t11.0.16      \t7.6.2                  \tA highly scalable open-source full-text search ...\n",
      "bitnami/etcd                    \t4.7.3        \t3.4.7                  \tetcd is a distributed key value store that prov...\n",
      "bitnami/external-dns            \t2.20.10      \t0.7.1                  \tExternalDNS is a Kubernetes addon that configur...\n",
      "bitnami/fluentd                 \t0.5.3        \t1.10.1                 \tFluentd is an open source data collector for un...\n",
      "bitnami/ghost                   \t9.2.2        \t3.13.1                 \tA simple, powerful publishing platform that all...\n",
      "bitnami/grafana                 \t1.4.1        \t6.7.2                  \tGrafana is an open source, feature rich metrics...\n",
      "bitnami/harbor                  \t5.0.6        \t1.10.1                 \tHarbor is an an open source trusted cloud nativ...\n",
      "bitnami/influxdb                \t0.4.4        \t1.7.10                 \tInfluxDB is an open source time-series database...\n",
      "bitnami/jasperreports           \t7.0.13       \t7.2.0                  \tThe JasperReports server can be used as a stand...\n",
      "bitnami/jenkins                 \t5.0.5        \t2.222.1                \tThe leading open source automation server         \n",
      "bitnami/joomla                  \t7.1.12       \t3.9.16                 \tPHP content management system (CMS) for publish...\n",
      "bitnami/kafka                   \t10.1.1       \t2.4.1                  \tApache Kafka is a distributed streaming platform. \n",
      "bitnami/kibana                  \t5.0.13       \t7.6.2                  \tKibana is an open source, browser based analyti...\n",
      "bitnami/kube-state-metrics      \t0.1.18       \t1.9.5                  \tkube-state-metrics is a simple service that lis...\n",
      "bitnami/kubeapps                \t3.5.1        \tv1.9.1                 \tKubeapps is a dashboard for your Kubernetes clu...\n",
      "bitnami/kubewatch               \t1.0.10       \t0.0.4                  \tKubewatch notifies your slack rooms when change...\n",
      "bitnami/logstash                \t0.2.16       \t7.6.2                  \tLogstash is an open source, server-side data pr...\n",
      "bitnami/magento                 \t12.0.4       \t2.3.4                  \tA feature-rich flexible e-commerce solution. It...\n",
      "bitnami/mariadb                 \t7.3.16       \t10.3.22                \tFast, reliable, scalable, and easy to use open-...\n",
      "bitnami/mariadb-cluster         \t1.0.1        \t10.2.14                \tChart to create a Highly available MariaDB cluster\n",
      "bitnami/mariadb-galera          \t1.1.0        \t10.4.12                \tMariaDB Galera is a multi-master database clust...\n",
      "bitnami/mean                    \t6.1.1        \t4.6.2                  \tMEAN is a free and open-source JavaScript softw...\n",
      "bitnami/mediawiki               \t9.1.12       \t1.34.1                 \tExtremely powerful, scalable software and a fea...\n",
      "bitnami/memcached               \t4.2.14       \t1.6.3                  \tChart for Memcached                               \n",
      "bitnami/metrics-server          \t4.1.9        \t0.3.6                  \tMetrics Server is a cluster-wide aggregator of ...\n",
      "bitnami/minio                   \t3.3.0        \t2020.4.4               \tMinIO is an object storage server, compatible w...\n",
      "bitnami/mongodb                 \t7.10.10      \t4.2.5                  \tNoSQL document-oriented database that stores JS...\n",
      "bitnami/mongodb-sharded         \t1.1.1        \t4.2.5                  \tNoSQL document-oriented database that stores JS...\n",
      "bitnami/moodle                  \t7.2.9        \t3.8.2                  \tMoodle is a learning platform designed to provi...\n",
      "bitnami/mxnet                   \t1.4.13       \t1.6.0                  \tA flexible and efficient library for deep learning\n",
      "bitnami/mysql                   \t6.11.1       \t8.0.19                 \tChart to create a Highly available MySQL cluster  \n",
      "bitnami/nats                    \t4.3.10       \t2.1.6                  \tAn open-source, cloud-native messaging system     \n",
      "bitnami/nginx                   \t5.1.13       \t1.17.9                 \tChart for the nginx server                        \n",
      "bitnami/nginx-ingress-controller\t5.3.13       \t0.30.0                 \tChart for the nginx Ingress controller            \n",
      "bitnami/node                    \t11.4.15      \t10.20.0                \tEvent-driven I/O server-side JavaScript environ...\n",
      "bitnami/node-exporter           \t0.2.10       \t0.18.1                 \tPrometheus exporter for hardware and OS metrics...\n",
      "bitnami/odoo                    \t14.0.1       \t13.0.20200310          \tA suite of web based open source business apps.   \n",
      "bitnami/opencart                \t7.0.10       \t3.0.3-2                \tA free and open source e-commerce platform for ...\n",
      "bitnami/orangehrm               \t7.0.13       \t4.3.5-0                \tOrangeHRM is a free HR management system that o...\n",
      "bitnami/osclass                 \t7.0.12       \t3.7.4                  \tOsclass is a php script that allows you to quic...\n",
      "bitnami/owncloud                \t8.1.11       \t10.4.0                 \tA file sharing server that puts the control and...\n",
      "bitnami/parse                   \t10.3.14      \t4.2.0                  \tParse is a platform that enables users to add a...\n",
      "bitnami/phabricator             \t9.0.17       \t2020.7.0               \tCollection of open source web applications that...\n",
      "bitnami/phpbb                   \t7.0.12       \t3.3.0                  \tCommunity forum that supports the notion of use...\n",
      "bitnami/phpmyadmin              \t5.0.0        \t5.0.2                  \tphpMyAdmin is an mysql administration frontend    \n",
      "bitnami/postgresql              \t8.7.3        \t11.7.0                 \tChart for PostgreSQL, an object-relational data...\n",
      "bitnami/postgresql-ha           \t2.3.1        \t11.7.0                 \tChart for PostgreSQL with HA architecture (usin...\n",
      "bitnami/prestashop              \t9.2.0        \t1.7.6-4                \tA popular open source ecommerce solution. Profe...\n",
      "bitnami/prometheus-operator     \t0.15.1       \t0.38.0                 \tThe Prometheus Operator for Kubernetes provides...\n",
      "bitnami/pytorch                 \t1.3.11       \t1.4.0                  \tDeep learning platform that accelerates the tra...\n",
      "bitnami/rabbitmq                \t6.25.0       \t3.8.3                  \tOpen source message broker software that implem...\n",
      "bitnami/redis                   \t10.6.3       \t5.0.8                  \tOpen source, advanced key-value store. It is of...\n",
      "bitnami/redmine                 \t14.1.15      \t4.1.1                  \tA flexible project management web application.    \n",
      "bitnami/spark                   \t1.2.15       \t2.4.5                  \tSpark is a fast and general-purpose cluster com...\n",
      "bitnami/sugarcrm                \t1.0.5        \t6.5.26                 \tSugarCRM enables businesses to create extraordi...\n",
      "bitnami/suitecrm                \t8.0.13       \t7.11.13                \tSuiteCRM is a completely open source enterprise...\n",
      "bitnami/tensorflow-inception    \t3.3.1        \t1.13.0                 \tOpen-source software library for serving machin...\n",
      "bitnami/tensorflow-resnet       \t2.0.11       \t2.1.0                  \tOpen-source software library serving the ResNet...\n",
      "bitnami/testlink                \t7.2.0        \t1.9.20                 \tWeb-based test management system that facilitat...\n",
      "bitnami/thanos                  \t0.3.2        \t0.11.0                 \tThanos is a highly available metrics system tha...\n",
      "bitnami/tomcat                  \t6.3.2        \t9.0.33                 \tChart for Apache Tomcat                           \n",
      "bitnami/wildfly                 \t3.5.12       \t19.0.0                 \tChart for Wildfly                                 \n",
      "bitnami/wordpress               \t9.1.3        \t5.4.0                  \tWeb publishing platform for building blogs and ...\n",
      "bitnami/zookeeper               \t5.10.1       \t3.6.0                  \tA centralized service for maintaining configura...\n"
     ]
    }
   ],
   "source": [
    "!helm search repo bitnami"
   ]
  },
  {
   "cell_type": "code",
   "execution_count": 16,
   "metadata": {},
   "outputs": [
    {
     "name": "stdout",
     "output_type": "stream",
     "text": [
      "NAME                            \tCHART VERSION\tAPP VERSION\tDESCRIPTION                                       \n",
      "bitnami/nginx                   \t5.1.13       \t1.17.9     \tChart for the nginx server                        \n",
      "bitnami/nginx-ingress-controller\t5.3.13       \t0.30.0     \tChart for the nginx Ingress controller            \n",
      "stable/nginx-ingress            \t1.36.0       \t0.30.0     \tAn nginx Ingress controller that uses ConfigMap...\n",
      "stable/nginx-ldapauth-proxy     \t0.1.3        \t1.13.5     \tnginx proxy with ldapauth                         \n",
      "stable/nginx-lego               \t0.3.1        \t           \tChart for nginx-ingress-controller and kube-lego  \n",
      "stable/gcloud-endpoints         \t0.1.2        \t1          \tDEPRECATED Develop, deploy, protect and monitor...\n"
     ]
    }
   ],
   "source": [
    "!helm search repo nginx"
   ]
  },
  {
   "cell_type": "code",
   "execution_count": 17,
   "metadata": {},
   "outputs": [
    {
     "name": "stdout",
     "output_type": "stream",
     "text": [
      "NAME                            \tCHART VERSION\tAPP VERSION\tDESCRIPTION                           \n",
      "bitnami/nginx                   \t5.1.13       \t1.17.9     \tChart for the nginx server            \n",
      "bitnami/nginx-ingress-controller\t5.3.13       \t0.30.0     \tChart for the nginx Ingress controller\n"
     ]
    }
   ],
   "source": [
    "!helm search repo bitnami/nginx"
   ]
  },
  {
   "cell_type": "code",
   "execution_count": 18,
   "metadata": {},
   "outputs": [
    {
     "name": "stdout",
     "output_type": "stream",
     "text": [
      "NAME: mywebserver\n",
      "LAST DEPLOYED: Thu Apr  9 14:22:27 2020\n",
      "NAMESPACE: default\n",
      "STATUS: deployed\n",
      "REVISION: 1\n",
      "TEST SUITE: None\n",
      "NOTES:\n",
      "Get the NGINX URL:\n",
      "\n",
      "  NOTE: It may take a few minutes for the LoadBalancer IP to be available.\n",
      "        Watch the status with: 'kubectl get svc --namespace default -w mywebserver-nginx'\n",
      "\n",
      "  export SERVICE_IP=$(kubectl get svc --namespace default mywebserver-nginx --template \"{{ range (index .status.loadBalancer.ingress 0) }}{{.}}{{ end }}\")\n",
      "  echo \"NGINX URL: http://$SERVICE_IP/\"\n"
     ]
    }
   ],
   "source": [
    "!helm install mywebserver bitnami/nginx"
   ]
  },
  {
   "cell_type": "code",
   "execution_count": 22,
   "metadata": {},
   "outputs": [
    {
     "name": "stdout",
     "output_type": "stream",
     "text": [
      "NAME                TYPE           CLUSTER-IP      EXTERNAL-IP                                                               PORT(S)                      AGE\n",
      "mywebserver-nginx   LoadBalancer   10.100.132.97   ac740a4db7a5c11ea842d12800186a62-1383129187.us-east-1.elb.amazonaws.com   80:32567/TCP,443:32414/TCP   73s\n"
     ]
    }
   ],
   "source": [
    "!kubectl get svc --namespace default mywebserver-nginx"
   ]
  },
  {
   "cell_type": "code",
   "execution_count": 26,
   "metadata": {},
   "outputs": [
    {
     "name": "stdout",
     "output_type": "stream",
     "text": [
      "NAME                        TYPE           CLUSTER-IP      EXTERNAL-IP                                                               PORT(S)                      AGE\n",
      "service/kubernetes          ClusterIP      10.100.0.1      <none>                                                                    443/TCP                      67m\n",
      "service/mywebserver-nginx   LoadBalancer   10.100.132.97   ac740a4db7a5c11ea842d12800186a62-1383129187.us-east-1.elb.amazonaws.com   80:32567/TCP,443:32414/TCP   3m10s\n",
      "\n",
      "NAME                                     READY   STATUS    RESTARTS   AGE\n",
      "pod/mywebserver-nginx-56d4fb6769-lmbwt   1/1     Running   0          3m10s\n",
      "\n",
      "NAME                                      READY   UP-TO-DATE   AVAILABLE   AGE\n",
      "deployment.extensions/mywebserver-nginx   1/1     1            1           3m10s\n"
     ]
    }
   ],
   "source": [
    "!kubectl get svc,po,deploy"
   ]
  },
  {
   "cell_type": "markdown",
   "metadata": {},
   "source": [
    "## Cleanup"
   ]
  },
  {
   "cell_type": "code",
   "execution_count": 27,
   "metadata": {},
   "outputs": [
    {
     "name": "stdout",
     "output_type": "stream",
     "text": [
      "NAME       \tNAMESPACE\tREVISION\tUPDATED                              \tSTATUS  \tCHART       \tAPP VERSION\n",
      "mywebserver\tdefault  \t1       \t2020-04-09 14:22:27.637924 +0200 CEST\tdeployed\tnginx-5.1.13\t1.17.9     \n"
     ]
    }
   ],
   "source": [
    "!helm list"
   ]
  },
  {
   "cell_type": "code",
   "execution_count": 28,
   "metadata": {},
   "outputs": [
    {
     "name": "stdout",
     "output_type": "stream",
     "text": [
      "release \"mywebserver\" uninstalled\n"
     ]
    }
   ],
   "source": [
    "!helm uninstall mywebserver"
   ]
  },
  {
   "cell_type": "code",
   "execution_count": 29,
   "metadata": {},
   "outputs": [
    {
     "name": "stdout",
     "output_type": "stream",
     "text": [
      "No resources found in default namespace.\n"
     ]
    }
   ],
   "source": [
    "!kubectl get pods -l app.kubernetes.io/name=nginx"
   ]
  },
  {
   "cell_type": "code",
   "execution_count": null,
   "metadata": {},
   "outputs": [],
   "source": []
  }
 ],
 "metadata": {
  "kernelspec": {
   "display_name": "Python 3",
   "language": "python",
   "name": "python3"
  },
  "language_info": {
   "codemirror_mode": {
    "name": "ipython",
    "version": 3
   },
   "file_extension": ".py",
   "mimetype": "text/x-python",
   "name": "python",
   "nbconvert_exporter": "python",
   "pygments_lexer": "ipython3",
   "version": "3.7.4"
  }
 },
 "nbformat": 4,
 "nbformat_minor": 4
}
