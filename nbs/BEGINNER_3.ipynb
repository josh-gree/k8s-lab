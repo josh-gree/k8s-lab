{
 "cells": [
  {
   "cell_type": "markdown",
   "metadata": {},
   "source": [
    "# DEPLOY THE EXAMPLE MICROSERVICES"
   ]
  },
  {
   "cell_type": "markdown",
   "metadata": {},
   "source": [
    "## Node js deployment\n"
   ]
  },
  {
   "cell_type": "code",
   "execution_count": 2,
   "metadata": {},
   "outputs": [
    {
     "name": "stdout",
     "output_type": "stream",
     "text": [
      "apiVersion: apps/v1\n",
      "kind: Deployment\n",
      "metadata:\n",
      "  name: ecsdemo-nodejs\n",
      "  labels:\n",
      "    app: ecsdemo-nodejs\n",
      "  namespace: default\n",
      "spec:\n",
      "  replicas: 1\n",
      "  selector:\n",
      "    matchLabels:\n",
      "      app: ecsdemo-nodejs\n",
      "  strategy:\n",
      "    rollingUpdate:\n",
      "      maxSurge: 25%\n",
      "      maxUnavailable: 25%\n",
      "    type: RollingUpdate\n",
      "  template:\n",
      "    metadata:\n",
      "      labels:\n",
      "        app: ecsdemo-nodejs\n",
      "    spec:\n",
      "      containers:\n",
      "      - image: brentley/ecsdemo-nodejs:latest\n",
      "        imagePullPolicy: Always\n",
      "        name: ecsdemo-nodejs\n",
      "        ports:\n",
      "        - containerPort: 3000\n",
      "          protocol: TCP\n"
     ]
    }
   ],
   "source": [
    "!cat ../ecsdemo-nodejs/kubernetes/deployment.yaml"
   ]
  },
  {
   "cell_type": "code",
   "execution_count": 3,
   "metadata": {},
   "outputs": [
    {
     "name": "stdout",
     "output_type": "stream",
     "text": [
      "apiVersion: v1\n",
      "kind: Service\n",
      "metadata:\n",
      "  name: ecsdemo-nodejs\n",
      "spec:\n",
      "  selector:\n",
      "    app: ecsdemo-nodejs\n",
      "  ports:\n",
      "   -  protocol: TCP\n",
      "      port: 80\n",
      "      targetPort: 3000\n",
      "\n"
     ]
    }
   ],
   "source": [
    "!cat ../ecsdemo-nodejs/kubernetes/service.yaml"
   ]
  },
  {
   "cell_type": "code",
   "execution_count": 4,
   "metadata": {},
   "outputs": [
    {
     "name": "stdout",
     "output_type": "stream",
     "text": [
      "deployment.apps/ecsdemo-nodejs created\n"
     ]
    }
   ],
   "source": [
    "!kubectl apply -f ../ecsdemo-nodejs/kubernetes/deployment.yaml"
   ]
  },
  {
   "cell_type": "code",
   "execution_count": 5,
   "metadata": {},
   "outputs": [
    {
     "name": "stdout",
     "output_type": "stream",
     "text": [
      "service/ecsdemo-nodejs created\n"
     ]
    }
   ],
   "source": [
    "!kubectl apply -f ../ecsdemo-nodejs/kubernetes/service.yaml"
   ]
  },
  {
   "cell_type": "markdown",
   "metadata": {},
   "source": [
    "<img src=\"deployed.png\"> "
   ]
  },
  {
   "cell_type": "markdown",
   "metadata": {},
   "source": [
    "<img src=\"services.png\"> "
   ]
  },
  {
   "cell_type": "markdown",
   "metadata": {},
   "source": [
    "Get deployment status"
   ]
  },
  {
   "cell_type": "code",
   "execution_count": 6,
   "metadata": {},
   "outputs": [
    {
     "name": "stdout",
     "output_type": "stream",
     "text": [
      "NAME             READY   UP-TO-DATE   AVAILABLE   AGE\n",
      "ecsdemo-nodejs   1/1     1            1           2m34s\n"
     ]
    }
   ],
   "source": [
    "!kubectl get deployment ecsdemo-nodejs"
   ]
  },
  {
   "cell_type": "markdown",
   "metadata": {},
   "source": [
    "## DEPLOY CRYSTAL BACKEND API"
   ]
  },
  {
   "cell_type": "code",
   "execution_count": 7,
   "metadata": {},
   "outputs": [
    {
     "name": "stdout",
     "output_type": "stream",
     "text": [
      "apiVersion: apps/v1\n",
      "kind: Deployment\n",
      "metadata:\n",
      "  name: ecsdemo-crystal\n",
      "  labels:\n",
      "    app: ecsdemo-crystal\n",
      "  namespace: default\n",
      "spec:\n",
      "  replicas: 1\n",
      "  selector:\n",
      "    matchLabels:\n",
      "      app: ecsdemo-crystal\n",
      "  strategy:\n",
      "    rollingUpdate:\n",
      "      maxSurge: 25%\n",
      "      maxUnavailable: 25%\n",
      "    type: RollingUpdate\n",
      "  template:\n",
      "    metadata:\n",
      "      labels:\n",
      "        app: ecsdemo-crystal\n",
      "    spec:\n",
      "      containers:\n",
      "      - image: brentley/ecsdemo-crystal:latest\n",
      "        imagePullPolicy: Always\n",
      "        name: ecsdemo-crystal\n",
      "        ports:\n",
      "        - containerPort: 3000\n",
      "          protocol: TCP\n"
     ]
    }
   ],
   "source": [
    "!cat ../ecsdemo-crystal/kubernetes/deployment.yaml"
   ]
  },
  {
   "cell_type": "code",
   "execution_count": 8,
   "metadata": {},
   "outputs": [
    {
     "name": "stdout",
     "output_type": "stream",
     "text": [
      "apiVersion: v1\n",
      "kind: Service\n",
      "metadata:\n",
      "  name: ecsdemo-crystal\n",
      "spec:\n",
      "  selector:\n",
      "    app: ecsdemo-crystal\n",
      "  ports:\n",
      "   -  protocol: TCP\n",
      "      port: 80\n",
      "      targetPort: 3000\n",
      "\n"
     ]
    }
   ],
   "source": [
    "!cat ../ecsdemo-crystal/kubernetes/service.yaml"
   ]
  },
  {
   "cell_type": "code",
   "execution_count": 9,
   "metadata": {},
   "outputs": [
    {
     "name": "stdout",
     "output_type": "stream",
     "text": [
      "deployment.apps/ecsdemo-crystal created\n"
     ]
    }
   ],
   "source": [
    "!kubectl apply -f ../ecsdemo-crystal/kubernetes/deployment.yaml"
   ]
  },
  {
   "cell_type": "code",
   "execution_count": 10,
   "metadata": {},
   "outputs": [
    {
     "name": "stdout",
     "output_type": "stream",
     "text": [
      "service/ecsdemo-crystal created\n"
     ]
    }
   ],
   "source": [
    "!kubectl apply -f ../ecsdemo-crystal/kubernetes/service.yaml"
   ]
  },
  {
   "cell_type": "code",
   "execution_count": 11,
   "metadata": {},
   "outputs": [
    {
     "name": "stdout",
     "output_type": "stream",
     "text": [
      "NAME              READY   UP-TO-DATE   AVAILABLE   AGE\n",
      "ecsdemo-crystal   1/1     1            1           26s\n"
     ]
    }
   ],
   "source": [
    "!kubectl get deployment ecsdemo-crystal"
   ]
  },
  {
   "cell_type": "markdown",
   "metadata": {},
   "source": [
    "Check that we can make a load balancer!"
   ]
  },
  {
   "cell_type": "code",
   "execution_count": 12,
   "metadata": {},
   "outputs": [
    {
     "name": "stdout",
     "output_type": "stream",
     "text": [
      "\n",
      "An error occurred (NoSuchEntity) when calling the GetRole operation: The role with name AWSServiceRoleForElasticLoadBalancing cannot be found.\n",
      "{\n",
      "    \"Role\": {\n",
      "        \"Path\": \"/aws-service-role/elasticloadbalancing.amazonaws.com/\",\n",
      "        \"RoleName\": \"AWSServiceRoleForElasticLoadBalancing\",\n",
      "        \"RoleId\": \"AROA5U2PS7UL7YS3ADTTO\",\n",
      "        \"Arn\": \"arn:aws:iam::938080402711:role/aws-service-role/elasticloadbalancing.amazonaws.com/AWSServiceRoleForElasticLoadBalancing\",\n",
      "        \"CreateDate\": \"2020-04-09T11:50:48Z\",\n",
      "        \"AssumeRolePolicyDocument\": {\n",
      "            \"Version\": \"2012-10-17\",\n",
      "            \"Statement\": [\n",
      "                {\n",
      "                    \"Action\": [\n",
      "                        \"sts:AssumeRole\"\n",
      "                    ],\n",
      "                    \"Effect\": \"Allow\",\n",
      "                    \"Principal\": {\n",
      "                        \"Service\": [\n",
      "                            \"elasticloadbalancing.amazonaws.com\"\n",
      "                        ]\n",
      "                    }\n",
      "                }\n",
      "            ]\n",
      "        }\n",
      "    }\n",
      "}\n"
     ]
    }
   ],
   "source": [
    "!aws iam get-role --role-name \"AWSServiceRoleForElasticLoadBalancing\" || aws iam create-service-linked-role --aws-service-name \"elasticloadbalancing.amazonaws.com\""
   ]
  },
  {
   "cell_type": "markdown",
   "metadata": {},
   "source": [
    "## Frontend"
   ]
  },
  {
   "cell_type": "code",
   "execution_count": 13,
   "metadata": {},
   "outputs": [
    {
     "name": "stdout",
     "output_type": "stream",
     "text": [
      "apiVersion: apps/v1\n",
      "kind: Deployment\n",
      "metadata:\n",
      "  name: ecsdemo-frontend\n",
      "  labels:\n",
      "    app: ecsdemo-frontend\n",
      "  namespace: default\n",
      "spec:\n",
      "  replicas: 1\n",
      "  selector:\n",
      "    matchLabels:\n",
      "      app: ecsdemo-frontend\n",
      "  strategy:\n",
      "    rollingUpdate:\n",
      "      maxSurge: 25%\n",
      "      maxUnavailable: 25%\n",
      "    type: RollingUpdate\n",
      "  template:\n",
      "    metadata:\n",
      "      labels:\n",
      "        app: ecsdemo-frontend\n",
      "    spec:\n",
      "      containers:\n",
      "      - image: brentley/ecsdemo-frontend:latest\n",
      "        imagePullPolicy: Always\n",
      "        name: ecsdemo-frontend\n",
      "        ports:\n",
      "        - containerPort: 3000\n",
      "          protocol: TCP\n",
      "        env:\n",
      "        - name: CRYSTAL_URL\n",
      "          value: \"http://ecsdemo-crystal.default.svc.cluster.local/crystal\"\n",
      "        - name: NODEJS_URL\n",
      "          value: \"http://ecsdemo-nodejs.default.svc.cluster.local/\"\n"
     ]
    }
   ],
   "source": [
    "!cat ../ecsdemo-frontend/kubernetes/deployment.yaml"
   ]
  },
  {
   "cell_type": "code",
   "execution_count": 14,
   "metadata": {},
   "outputs": [
    {
     "name": "stdout",
     "output_type": "stream",
     "text": [
      "apiVersion: v1\n",
      "kind: Service\n",
      "metadata:\n",
      "  name: ecsdemo-frontend\n",
      "spec:\n",
      "  selector:\n",
      "    app: ecsdemo-frontend\n",
      "  type: LoadBalancer\n",
      "  ports:\n",
      "   -  protocol: TCP\n",
      "      port: 80\n",
      "      targetPort: 3000\n",
      "\n"
     ]
    }
   ],
   "source": [
    "!cat ../ecsdemo-frontend/kubernetes/service.yaml"
   ]
  },
  {
   "cell_type": "code",
   "execution_count": 15,
   "metadata": {},
   "outputs": [
    {
     "name": "stdout",
     "output_type": "stream",
     "text": [
      "deployment.apps/ecsdemo-frontend created\n"
     ]
    }
   ],
   "source": [
    "!kubectl apply -f ../ecsdemo-frontend/kubernetes/deployment.yaml"
   ]
  },
  {
   "cell_type": "code",
   "execution_count": 16,
   "metadata": {},
   "outputs": [
    {
     "name": "stdout",
     "output_type": "stream",
     "text": [
      "service/ecsdemo-frontend created\n"
     ]
    }
   ],
   "source": [
    "!kubectl apply -f ../ecsdemo-frontend/kubernetes/service.yaml"
   ]
  },
  {
   "cell_type": "code",
   "execution_count": 17,
   "metadata": {},
   "outputs": [
    {
     "name": "stdout",
     "output_type": "stream",
     "text": [
      "NAME               READY   UP-TO-DATE   AVAILABLE   AGE\n",
      "ecsdemo-frontend   1/1     1            1           38s\n"
     ]
    }
   ],
   "source": [
    "!kubectl get deployment ecsdemo-frontend"
   ]
  },
  {
   "cell_type": "markdown",
   "metadata": {},
   "source": [
    "- need to find ELB address"
   ]
  },
  {
   "cell_type": "code",
   "execution_count": 19,
   "metadata": {},
   "outputs": [
    {
     "name": "stdout",
     "output_type": "stream",
     "text": [
      "NAME               TYPE           CLUSTER-IP      EXTERNAL-IP                                                               PORT(S)        AGE    SELECTOR\n",
      "ecsdemo-frontend   LoadBalancer   10.100.142.58   aa2934e4f7a5811ea842d12800186a62-2055527445.us-east-1.elb.amazonaws.com   80:32701/TCP   2m1s   app=ecsdemo-frontend\n"
     ]
    }
   ],
   "source": [
    "!kubectl get service ecsdemo-frontend -o wide"
   ]
  },
  {
   "cell_type": "code",
   "execution_count": 22,
   "metadata": {},
   "outputs": [
    {
     "name": "stdout",
     "output_type": "stream",
     "text": [
      "* Rebuilt URL to: aa2934e4f7a5811ea842d12800186a62-2055527445.us-east-1.elb.amazonaws.com/\n",
      "*   Trying 34.206.201.161...\n",
      "* TCP_NODELAY set\n",
      "* Connected to aa2934e4f7a5811ea842d12800186a62-2055527445.us-east-1.elb.amazonaws.com (34.206.201.161) port 80 (#0)\n",
      "> GET / HTTP/1.1\n",
      "> Host: aa2934e4f7a5811ea842d12800186a62-2055527445.us-east-1.elb.amazonaws.com\n",
      "> User-Agent: curl/7.54.0\n",
      "> Accept: */*\n",
      "> \n",
      "< HTTP/1.1 200 OK\n",
      "< X-Frame-Options: SAMEORIGIN\n",
      "< X-XSS-Protection: 1; mode=block\n",
      "< X-Content-Type-Options: nosniff\n",
      "< Content-Type: text/html; charset=utf-8\n",
      "< ETag: W/\"d84ca474d808a857f71dc2114e16ada5\"\n",
      "< Cache-Control: max-age=0, private, must-revalidate\n",
      "< X-Request-Id: b64a3d66-46b3-4121-8141-5b5e1ea390bd\n",
      "< X-Runtime: 0.076899\n",
      "< Connection: close\n",
      "< Server: thin\n",
      "< \n",
      "<!DOCTYPE html>\n",
      "<html>\n",
      "<head>\n",
      "  <title>ExampleApp</title>\n",
      "  <script>\n",
      "    function load() {\n",
      "      setTimeout(function() {location=''}, 50)\n",
      "    }\n",
      "    window.onload = load;\n",
      "  </script>\n",
      "</head>\n",
      "<body>\n",
      "\n",
      "<style>\n",
      "body {\n",
      "    background-color: #666666;\n",
      "}\n",
      "</style>\n",
      "\n",
      "<h2 style=\"color: LightSkyBlue;\">\n",
      "  <center>\n",
      "    Rails frontend: Hello! from 192.168.13.201 in AZ-a running faf59b6\n",
      "  </center>\n",
      "</h2>\n",
      "\n",
      "      <h2 style=\"color: LightGreen;\">\n",
      "        <center>\n",
      "          Node.js backend: Hello! from 192.168.28.41 in AZ-a commit 02b4f09\n",
      "\n",
      "        </center>\n",
      "      </h2>\n",
      "\n",
      "      <h2 style=\"color: #FFC200;\">\n",
      "        <center>\n",
      "          Crystal backend: Hello! from 192.168.16.191 in AZ-a commit 0846b74\n",
      "\n",
      "        </center>\n",
      "      </h2>\n",
      "\n",
      "\n",
      "\n",
      "\n",
      "\n",
      "\n",
      "  <p style=\"text-align:center;\"><img src=\"/assets/a-a-a-68857db3d45bbae9054a3c2e5795219b875ce66eeda2a17cce7e6dba2a226f90.svg\" alt=\"A a a\" /></p>\n",
      "\n",
      "\n",
      "\n",
      "\n",
      "</body>\n",
      "</html>\n",
      "* Closing connection 0\n"
     ]
    }
   ],
   "source": [
    "!curl -m3 -v $(kubectl get service ecsdemo-frontend -o json | jq -r '.status.loadBalancer.ingress[].hostname')"
   ]
  },
  {
   "cell_type": "markdown",
   "metadata": {},
   "source": [
    "## Scale the backend"
   ]
  },
  {
   "cell_type": "code",
   "execution_count": 23,
   "metadata": {},
   "outputs": [
    {
     "name": "stdout",
     "output_type": "stream",
     "text": [
      "NAME               READY   UP-TO-DATE   AVAILABLE   AGE\n",
      "ecsdemo-crystal    1/1     1            1           8m24s\n",
      "ecsdemo-frontend   1/1     1            1           4m25s\n",
      "ecsdemo-nodejs     1/1     1            1           12m\n"
     ]
    }
   ],
   "source": [
    "!kubectl get deployments"
   ]
  },
  {
   "cell_type": "code",
   "execution_count": 24,
   "metadata": {},
   "outputs": [
    {
     "name": "stdout",
     "output_type": "stream",
     "text": [
      "deployment.extensions/ecsdemo-nodejs scaled\n"
     ]
    }
   ],
   "source": [
    "!kubectl scale deployment ecsdemo-nodejs --replicas=3"
   ]
  },
  {
   "cell_type": "code",
   "execution_count": 26,
   "metadata": {},
   "outputs": [
    {
     "name": "stdout",
     "output_type": "stream",
     "text": [
      "deployment.extensions/ecsdemo-crystal scaled\n"
     ]
    }
   ],
   "source": [
    "!kubectl scale deployment ecsdemo-crystal --replicas=3"
   ]
  },
  {
   "cell_type": "code",
   "execution_count": 27,
   "metadata": {},
   "outputs": [
    {
     "name": "stdout",
     "output_type": "stream",
     "text": [
      "NAME               READY   UP-TO-DATE   AVAILABLE   AGE\n",
      "ecsdemo-crystal    3/3     3            3           9m2s\n",
      "ecsdemo-frontend   1/1     1            1           5m3s\n",
      "ecsdemo-nodejs     3/3     3            3           13m\n"
     ]
    }
   ],
   "source": [
    "!kubectl get deployments"
   ]
  },
  {
   "cell_type": "markdown",
   "metadata": {},
   "source": [
    "## Scale frontend"
   ]
  },
  {
   "cell_type": "code",
   "execution_count": 28,
   "metadata": {},
   "outputs": [
    {
     "name": "stdout",
     "output_type": "stream",
     "text": [
      "deployment.extensions/ecsdemo-frontend scaled\n"
     ]
    }
   ],
   "source": [
    "!kubectl scale deployment ecsdemo-frontend --replicas=3"
   ]
  },
  {
   "cell_type": "code",
   "execution_count": 31,
   "metadata": {},
   "outputs": [
    {
     "name": "stdout",
     "output_type": "stream",
     "text": [
      "NAME               READY   UP-TO-DATE   AVAILABLE   AGE\n",
      "ecsdemo-crystal    3/3     3            3           10m\n",
      "ecsdemo-frontend   3/3     3            3           6m23s\n",
      "ecsdemo-nodejs     3/3     3            3           14m\n"
     ]
    }
   ],
   "source": [
    "!kubectl get deployments"
   ]
  },
  {
   "cell_type": "code",
   "execution_count": 33,
   "metadata": {},
   "outputs": [
    {
     "data": {
      "text/html": [
       "<video src=\"lb-in-action.mp4\" controls  width=\"400\"  height=\"400\">\n",
       "      Your browser does not support the <code>video</code> element.\n",
       "    </video>"
      ],
      "text/plain": [
       "<IPython.core.display.Video object>"
      ]
     },
     "execution_count": 33,
     "metadata": {},
     "output_type": "execute_result"
    }
   ],
   "source": [
    "from IPython.display import Video\n",
    "\n",
    "Video(\"lb-in-action.mp4\",width=400,height=400)"
   ]
  },
  {
   "cell_type": "markdown",
   "metadata": {},
   "source": [
    "## Clean everything up"
   ]
  },
  {
   "cell_type": "code",
   "execution_count": 34,
   "metadata": {},
   "outputs": [
    {
     "name": "stdout",
     "output_type": "stream",
     "text": [
      "deployment.apps \"ecsdemo-nodejs\" deleted\n",
      "service \"ecsdemo-nodejs\" deleted\n"
     ]
    }
   ],
   "source": [
    "!kubectl delete -f ../ecsdemo-nodejs/kubernetes/deployment.yaml\n",
    "!kubectl delete -f ../ecsdemo-nodejs/kubernetes/service.yaml"
   ]
  },
  {
   "cell_type": "code",
   "execution_count": 35,
   "metadata": {},
   "outputs": [
    {
     "name": "stdout",
     "output_type": "stream",
     "text": [
      "deployment.apps \"ecsdemo-crystal\" deleted\n",
      "service \"ecsdemo-crystal\" deleted\n"
     ]
    }
   ],
   "source": [
    "!kubectl delete -f ../ecsdemo-crystal/kubernetes/deployment.yaml\n",
    "!kubectl delete -f ../ecsdemo-crystal/kubernetes/service.yaml"
   ]
  },
  {
   "cell_type": "code",
   "execution_count": 36,
   "metadata": {},
   "outputs": [
    {
     "name": "stdout",
     "output_type": "stream",
     "text": [
      "deployment.apps \"ecsdemo-frontend\" deleted\n",
      "service \"ecsdemo-frontend\" deleted\n"
     ]
    }
   ],
   "source": [
    "!kubectl delete -f ../ecsdemo-frontend/kubernetes/deployment.yaml\n",
    "!kubectl delete -f ../ecsdemo-frontend/kubernetes/service.yaml"
   ]
  },
  {
   "cell_type": "code",
   "execution_count": null,
   "metadata": {},
   "outputs": [],
   "source": []
  }
 ],
 "metadata": {
  "kernelspec": {
   "display_name": "Python 3",
   "language": "python",
   "name": "python3"
  },
  "language_info": {
   "codemirror_mode": {
    "name": "ipython",
    "version": 3
   },
   "file_extension": ".py",
   "mimetype": "text/x-python",
   "name": "python",
   "nbconvert_exporter": "python",
   "pygments_lexer": "ipython3",
   "version": "3.7.4"
  }
 },
 "nbformat": 4,
 "nbformat_minor": 4
}
